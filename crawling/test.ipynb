{
 "cells": [
  {
   "cell_type": "code",
   "execution_count": 2,
   "id": "5b8319fb",
   "metadata": {},
   "outputs": [
    {
     "ename": "InternalError",
     "evalue": "파일이 이미 있으므로 만들 수 없습니다. (os error 183)",
     "output_type": "error",
     "traceback": [
      "\u001b[31m---------------------------------------------------------------------------\u001b[39m",
      "\u001b[31mInternalError\u001b[39m                             Traceback (most recent call last)",
      "\u001b[36mCell\u001b[39m\u001b[36m \u001b[39m\u001b[32mIn[2]\u001b[39m\u001b[32m, line 10\u001b[39m\n\u001b[32m      6\u001b[39m MERGED_DB_PATH = \u001b[33m\"\u001b[39m\u001b[33mC:/Users/mojih/OneDrive/바탕 화면/Project4/SKN13-4th-4Team/crawling/merged_rehabilitation/merged_rehabilitation_chroma.sqlite3\u001b[39m\u001b[33m\"\u001b[39m\n\u001b[32m      8\u001b[39m \u001b[38;5;66;03m# PersistentClient를 사용하여 DB 파일 경로를 지정합니다.\u001b[39;00m\n\u001b[32m      9\u001b[39m \u001b[38;5;66;03m# ChromaDB는 이 경로에 있는 파일을 사용하여 데이터를 로드합니다.\u001b[39;00m\n\u001b[32m---> \u001b[39m\u001b[32m10\u001b[39m client = \u001b[43mchromadb\u001b[49m\u001b[43m.\u001b[49m\u001b[43mPersistentClient\u001b[49m\u001b[43m(\u001b[49m\u001b[43mpath\u001b[49m\u001b[43m=\u001b[49m\u001b[43mMERGED_DB_PATH\u001b[49m\u001b[43m)\u001b[49m\n\u001b[32m     12\u001b[39m \u001b[38;5;66;03m# 만약 쿼리 시 임베딩이 필요하다면, 임베딩 함수도 다시 정의해야 합니다.\u001b[39;00m\n\u001b[32m     13\u001b[39m \u001b[38;5;66;03m# OpenAI API 키가 환경 변수에 설정되어 있어야 합니다.\u001b[39;00m\n\u001b[32m     14\u001b[39m \u001b[38;5;66;03m# from dotenv import load_dotenv\u001b[39;00m\n\u001b[32m     15\u001b[39m \u001b[38;5;66;03m# load_dotenv()\u001b[39;00m\n\u001b[32m     16\u001b[39m \u001b[38;5;66;03m# OPENAI_API_KEY = os.getenv(\"OPENAI_API_KEY\")\u001b[39;00m\n\u001b[32m     17\u001b[39m \u001b[38;5;66;03m# embedding_function = OpenAIEmbeddingFunction(api_key=OPENAI_API_KEY, model_name=\"text-embedding-3-large\")\u001b[39;00m\n",
      "\u001b[36mFile \u001b[39m\u001b[32mc:\\Users\\mojih\\anaconda3\\envs\\lang_env\\Lib\\site-packages\\chromadb\\__init__.py:161\u001b[39m, in \u001b[36mPersistentClient\u001b[39m\u001b[34m(path, settings, tenant, database)\u001b[39m\n\u001b[32m    158\u001b[39m tenant = \u001b[38;5;28mstr\u001b[39m(tenant)\n\u001b[32m    159\u001b[39m database = \u001b[38;5;28mstr\u001b[39m(database)\n\u001b[32m--> \u001b[39m\u001b[32m161\u001b[39m \u001b[38;5;28;01mreturn\u001b[39;00m \u001b[43mClientCreator\u001b[49m\u001b[43m(\u001b[49m\u001b[43mtenant\u001b[49m\u001b[43m=\u001b[49m\u001b[43mtenant\u001b[49m\u001b[43m,\u001b[49m\u001b[43m \u001b[49m\u001b[43mdatabase\u001b[49m\u001b[43m=\u001b[49m\u001b[43mdatabase\u001b[49m\u001b[43m,\u001b[49m\u001b[43m \u001b[49m\u001b[43msettings\u001b[49m\u001b[43m=\u001b[49m\u001b[43msettings\u001b[49m\u001b[43m)\u001b[49m\n",
      "\u001b[36mFile \u001b[39m\u001b[32mc:\\Users\\mojih\\anaconda3\\envs\\lang_env\\Lib\\site-packages\\chromadb\\api\\client.py:65\u001b[39m, in \u001b[36mClient.__init__\u001b[39m\u001b[34m(self, tenant, database, settings)\u001b[39m\n\u001b[32m     59\u001b[39m \u001b[38;5;28;01mdef\u001b[39;00m\u001b[38;5;250m \u001b[39m\u001b[34m__init__\u001b[39m(\n\u001b[32m     60\u001b[39m     \u001b[38;5;28mself\u001b[39m,\n\u001b[32m     61\u001b[39m     tenant: \u001b[38;5;28mstr\u001b[39m = DEFAULT_TENANT,\n\u001b[32m     62\u001b[39m     database: \u001b[38;5;28mstr\u001b[39m = DEFAULT_DATABASE,\n\u001b[32m     63\u001b[39m     settings: Settings = Settings(),\n\u001b[32m     64\u001b[39m ) -> \u001b[38;5;28;01mNone\u001b[39;00m:\n\u001b[32m---> \u001b[39m\u001b[32m65\u001b[39m     \u001b[38;5;28;43msuper\u001b[39;49m\u001b[43m(\u001b[49m\u001b[43m)\u001b[49m\u001b[43m.\u001b[49m\u001b[34;43m__init__\u001b[39;49m\u001b[43m(\u001b[49m\u001b[43msettings\u001b[49m\u001b[43m=\u001b[49m\u001b[43msettings\u001b[49m\u001b[43m)\u001b[49m\n\u001b[32m     66\u001b[39m     \u001b[38;5;28mself\u001b[39m.tenant = tenant\n\u001b[32m     67\u001b[39m     \u001b[38;5;28mself\u001b[39m.database = database\n",
      "\u001b[36mFile \u001b[39m\u001b[32mc:\\Users\\mojih\\anaconda3\\envs\\lang_env\\Lib\\site-packages\\chromadb\\api\\shared_system_client.py:19\u001b[39m, in \u001b[36mSharedSystemClient.__init__\u001b[39m\u001b[34m(self, settings)\u001b[39m\n\u001b[32m     14\u001b[39m \u001b[38;5;28;01mdef\u001b[39;00m\u001b[38;5;250m \u001b[39m\u001b[34m__init__\u001b[39m(\n\u001b[32m     15\u001b[39m     \u001b[38;5;28mself\u001b[39m,\n\u001b[32m     16\u001b[39m     settings: Settings = Settings(),\n\u001b[32m     17\u001b[39m ) -> \u001b[38;5;28;01mNone\u001b[39;00m:\n\u001b[32m     18\u001b[39m     \u001b[38;5;28mself\u001b[39m._identifier = SharedSystemClient._get_identifier_from_settings(settings)\n\u001b[32m---> \u001b[39m\u001b[32m19\u001b[39m     \u001b[43mSharedSystemClient\u001b[49m\u001b[43m.\u001b[49m\u001b[43m_create_system_if_not_exists\u001b[49m\u001b[43m(\u001b[49m\u001b[38;5;28;43mself\u001b[39;49m\u001b[43m.\u001b[49m\u001b[43m_identifier\u001b[49m\u001b[43m,\u001b[49m\u001b[43m \u001b[49m\u001b[43msettings\u001b[49m\u001b[43m)\u001b[49m\n",
      "\u001b[36mFile \u001b[39m\u001b[32mc:\\Users\\mojih\\anaconda3\\envs\\lang_env\\Lib\\site-packages\\chromadb\\api\\shared_system_client.py:32\u001b[39m, in \u001b[36mSharedSystemClient._create_system_if_not_exists\u001b[39m\u001b[34m(cls, identifier, settings)\u001b[39m\n\u001b[32m     29\u001b[39m     new_system.instance(ProductTelemetryClient)\n\u001b[32m     30\u001b[39m     new_system.instance(ServerAPI)\n\u001b[32m---> \u001b[39m\u001b[32m32\u001b[39m     \u001b[43mnew_system\u001b[49m\u001b[43m.\u001b[49m\u001b[43mstart\u001b[49m\u001b[43m(\u001b[49m\u001b[43m)\u001b[49m\n\u001b[32m     33\u001b[39m \u001b[38;5;28;01melse\u001b[39;00m:\n\u001b[32m     34\u001b[39m     previous_system = \u001b[38;5;28mcls\u001b[39m._identifier_to_system[identifier]\n",
      "\u001b[36mFile \u001b[39m\u001b[32mc:\\Users\\mojih\\anaconda3\\envs\\lang_env\\Lib\\site-packages\\chromadb\\config.py:471\u001b[39m, in \u001b[36mSystem.start\u001b[39m\u001b[34m(self)\u001b[39m\n\u001b[32m    469\u001b[39m \u001b[38;5;28msuper\u001b[39m().start()\n\u001b[32m    470\u001b[39m \u001b[38;5;28;01mfor\u001b[39;00m component \u001b[38;5;129;01min\u001b[39;00m \u001b[38;5;28mself\u001b[39m.components():\n\u001b[32m--> \u001b[39m\u001b[32m471\u001b[39m     \u001b[43mcomponent\u001b[49m\u001b[43m.\u001b[49m\u001b[43mstart\u001b[49m\u001b[43m(\u001b[49m\u001b[43m)\u001b[49m\n",
      "\u001b[36mFile \u001b[39m\u001b[32mc:\\Users\\mojih\\anaconda3\\envs\\lang_env\\Lib\\site-packages\\chromadb\\api\\rust.py:112\u001b[39m, in \u001b[36mRustBindingsAPI.start\u001b[39m\u001b[34m(self)\u001b[39m\n\u001b[32m    101\u001b[39m migration_mode_bindings = (\n\u001b[32m    102\u001b[39m     chromadb_rust_bindings.MigrationMode.Apply\n\u001b[32m    103\u001b[39m     \u001b[38;5;28;01mif\u001b[39;00m migration_mode == \u001b[33m\"\u001b[39m\u001b[33mapply\u001b[39m\u001b[33m\"\u001b[39m\n\u001b[32m    104\u001b[39m     \u001b[38;5;28;01melse\u001b[39;00m chromadb_rust_bindings.MigrationMode.Validate\n\u001b[32m    105\u001b[39m )\n\u001b[32m    106\u001b[39m sqlite_config = chromadb_rust_bindings.SqliteDBConfig(\n\u001b[32m    107\u001b[39m     hash_type=hash_type_bindings,\n\u001b[32m    108\u001b[39m     migration_mode=migration_mode_bindings,\n\u001b[32m    109\u001b[39m     url=sqlite_persist_path,\n\u001b[32m    110\u001b[39m )\n\u001b[32m--> \u001b[39m\u001b[32m112\u001b[39m \u001b[38;5;28mself\u001b[39m.bindings = \u001b[43mchromadb_rust_bindings\u001b[49m\u001b[43m.\u001b[49m\u001b[43mBindings\u001b[49m\u001b[43m(\u001b[49m\n\u001b[32m    113\u001b[39m \u001b[43m    \u001b[49m\u001b[43mallow_reset\u001b[49m\u001b[43m=\u001b[49m\u001b[38;5;28;43mself\u001b[39;49m\u001b[43m.\u001b[49m\u001b[43m_system\u001b[49m\u001b[43m.\u001b[49m\u001b[43msettings\u001b[49m\u001b[43m.\u001b[49m\u001b[43mrequire\u001b[49m\u001b[43m(\u001b[49m\u001b[33;43m\"\u001b[39;49m\u001b[33;43mallow_reset\u001b[39;49m\u001b[33;43m\"\u001b[39;49m\u001b[43m)\u001b[49m\u001b[43m,\u001b[49m\n\u001b[32m    114\u001b[39m \u001b[43m    \u001b[49m\u001b[43msqlite_db_config\u001b[49m\u001b[43m=\u001b[49m\u001b[43msqlite_config\u001b[49m\u001b[43m,\u001b[49m\n\u001b[32m    115\u001b[39m \u001b[43m    \u001b[49m\u001b[43mpersist_path\u001b[49m\u001b[43m=\u001b[49m\u001b[43mpersist_path\u001b[49m\u001b[43m,\u001b[49m\n\u001b[32m    116\u001b[39m \u001b[43m    \u001b[49m\u001b[43mhnsw_cache_size\u001b[49m\u001b[43m=\u001b[49m\u001b[38;5;28;43mself\u001b[39;49m\u001b[43m.\u001b[49m\u001b[43mhnsw_cache_size\u001b[49m\u001b[43m,\u001b[49m\n\u001b[32m    117\u001b[39m \u001b[43m\u001b[49m\u001b[43m)\u001b[49m\n",
      "\u001b[31mInternalError\u001b[39m: 파일이 이미 있으므로 만들 수 없습니다. (os error 183)"
     ]
    }
   ],
   "source": [
    "import chromadb\n",
    "from chromadb.utils.embedding_functions import OpenAIEmbeddingFunction # 임베딩 함수가 필요할 경우\n",
    "\n",
    "# 병합된 DB 파일의 정확한 경로를 지정합니다.\n",
    "# 예: C:/Users/mojih/OneDrive/바탕 화면/Project4/SKN13-4th-4Team/ai_influencer_agent/merged_rehabilitation_chroma.sqlite3\n",
    "MERGED_DB_PATH = \"C:/Users/mojih/OneDrive/바탕 화면/Project4/SKN13-4th-4Team/crawling/merged_rehabilitation/merged_rehabilitation_chroma.sqlite3\"\n",
    "\n",
    "# PersistentClient를 사용하여 DB 파일 경로를 지정합니다.\n",
    "# ChromaDB는 이 경로에 있는 파일을 사용하여 데이터를 로드합니다.\n",
    "client = chromadb.PersistentClient(path=MERGED_DB_PATH)\n",
    "\n",
    "# 만약 쿼리 시 임베딩이 필요하다면, 임베딩 함수도 다시 정의해야 합니다.\n",
    "# OpenAI API 키가 환경 변수에 설정되어 있어야 합니다.\n",
    "# from dotenv import load_dotenv\n",
    "# load_dotenv()\n",
    "# OPENAI_API_KEY = os.getenv(\"OPENAI_API_KEY\")\n",
    "# embedding_function = OpenAIEmbeddingFunction(api_key=OPENAI_API_KEY, model_name=\"text-embedding-3-large\")"
   ]
  },
  {
   "cell_type": "code",
   "execution_count": null,
   "id": "47a602fb",
   "metadata": {},
   "outputs": [
    {
     "ename": "NameError",
     "evalue": "name 'collection' is not defined",
     "output_type": "error",
     "traceback": [
      "\u001b[31m---------------------------------------------------------------------------\u001b[39m",
      "\u001b[31mNameError\u001b[39m                                 Traceback (most recent call last)",
      "\u001b[36mCell\u001b[39m\u001b[36m \u001b[39m\u001b[32mIn[3]\u001b[39m\u001b[32m, line 3\u001b[39m\n\u001b[32m      1\u001b[39m \u001b[38;5;66;03m# 예시: 유사성 검색\u001b[39;00m\n\u001b[32m      2\u001b[39m query_text = \u001b[33m\"\u001b[39m\u001b[33m필라테스가 허리 통증 완화에 미치는 영향\u001b[39m\u001b[33m\"\u001b[39m\n\u001b[32m----> \u001b[39m\u001b[32m3\u001b[39m results = \u001b[43mcollection\u001b[49m.query(\n\u001b[32m      4\u001b[39m     query_texts=[query_text],\n\u001b[32m      5\u001b[39m     n_results=\u001b[32m5\u001b[39m \u001b[38;5;66;03m# 상위 5개 결과\u001b[39;00m\n\u001b[32m      6\u001b[39m     \u001b[38;5;66;03m# where={\"title\": {\"$contains\": \"필라테스\"}} # 메타데이터 필터링 예시\u001b[39;00m\n\u001b[32m      7\u001b[39m )\n\u001b[32m      9\u001b[39m \u001b[38;5;28mprint\u001b[39m(\u001b[33mf\u001b[39m\u001b[33m\"\u001b[39m\u001b[33m'\u001b[39m\u001b[38;5;132;01m{\u001b[39;00mquery_text\u001b[38;5;132;01m}\u001b[39;00m\u001b[33m'\u001b[39m\u001b[33m에 대한 검색 결과:\u001b[39m\u001b[33m\"\u001b[39m)\n\u001b[32m     10\u001b[39m \u001b[38;5;28;01mfor\u001b[39;00m i, doc \u001b[38;5;129;01min\u001b[39;00m \u001b[38;5;28menumerate\u001b[39m(results[\u001b[33m'\u001b[39m\u001b[33mdocuments\u001b[39m\u001b[33m'\u001b[39m][\u001b[32m0\u001b[39m]):\n",
      "\u001b[31mNameError\u001b[39m: name 'collection' is not defined"
     ]
    }
   ],
   "source": [
    "import os\n",
    "import chromadb\n",
    "from chromadb.utils.embedding_functions import OpenAIEmbeddingFunction\n",
    "from dotenv import load_dotenv\n",
    "\n",
    "# 환경 변수 로드 (OpenAI API 키를 위해)\n",
    "load_dotenv()\n",
    "OPENAI_API_KEY = os.getenv(\"OPENAI_API_KEY\")\n",
    "\n",
    "# --- 설정 ---\n",
    "# 병합된 ChromaDB 파일이 위치한 '디렉토리'의 경로를 지정합니다.\n",
    "# 이 디렉토리 안에 'chroma.sqlite3' 파일이 있어야 합니다.\n",
    "# 예: C:\\Users\\mojih\\OneDrive\\바탕 화면\\Project4\\SKN13-4th-4Team\\crawling\\merged_rehabilitation\\merged_rehabilitation_chroma_data\n",
    "MERGED_DB_DIRECTORY = r\"C:\\Users\\mojih\\OneDrive\\바탕 화면\\Project4\\SKN13-4th-4Team\\crawling\\merged_rehabilitation\"\n",
    "\n",
    "# ChromaDB 컬렉션 이름 (병합된 DB 내에 존재하는 컬렉션 이름)\n",
    "# 이전 수집 스크립트에서 사용했던 이름과 동일해야 합니다.\n",
    "COLLECTION_NAME = \"rehabilitation_articles_openai\"\n",
    "\n",
    "# 임베딩 함수 정의 (쿼리 시 필요)\n",
    "# OpenAI API 키가 환경 변수에 설정되어 있어야 합니다.\n",
    "embedding_function = OpenAIEmbeddingFunction(api_key=OPENAI_API_KEY, model_name=\"text-embedding-3-large\")\n",
    "\n",
    "# --- ChromaDB 클라이언트 초기화 ---\n",
    "print(f\"ChromaDB 클라이언트를 '{MERGED_DB_DIRECTORY}' 경로로 초기화 중...\")\n",
    "try:\n",
    "    # PersistentClient는 지정된 경로를 데이터 저장 디렉토리로 사용합니다.\n",
    "    client = chromadb.PersistentClient(path=MERGED_DB_DIRECTORY)\n",
    "    print(\"ChromaDB 클라이언트 초기화 성공.\")\n",
    "except Exception as e:\n",
    "    print(f\"ChromaDB 클라이언트 초기화 오류: {e}\")\n",
    "    exit()\n",
    "\n",
    "# --- 컬렉션 가져오기 ---\n",
    "print(f\"컬렉션 '{COLLECTION_NAME}' 가져오는 중...\")\n",
    "try:\n",
    "    # get_collection을 사용하여 이미 존재하는 컬렉션을 가져옵니다.\n",
    "    # 쿼리 시 임베딩이 필요하므로 embedding_function을 전달합니다.\n",
    "    collection = client.get_collection(name=COLLECTION_NAME, embedding_function=embedding_function)\n",
    "    print(f\"컬렉션 '{COLLECTION_NAME}' 가져오기 성공.\")\n",
    "    print(f\"컬렉션의 총 문서 수: {collection.count()}개\")\n",
    "except Exception as e:\n",
    "    print(f\"컬렉션 '{COLLECTION_NAME}' 가져오기 오류: {e}\")\n",
    "    print(\"컬렉션 이름이 정확한지, 또는 해당 컬렉션이 병합된 DB에 존재하는지 확인해주세요.\")\n",
    "    exit()\n",
    "\n",
    "# --- 데이터 사용 예시 (쿼리) ---\n",
    "print(\"\\n--- 데이터 쿼리 예시 ---\")\n",
    "query_text = \"필라테스가 허리 통증 완화에 미치는 영향\"\n",
    "print(f\"쿼리: '{query_text}'\")\n",
    "\n",
    "try:\n",
    "    results = collection.query(\n",
    "        query_texts=[query_text],\n",
    "        n_results=5, # 상위 5개 결과\n",
    "        # where={\"title\": {\"$contains\": \"필라테스\"}} # 메타데이터 필터링 예시 (필요시 주석 해제)\n",
    "    )\n",
    "\n",
    "    if results and results['documents'] and results['documents'][0]:\n",
    "        print(f\"'{query_text}'에 대한 검색 결과:\")\n",
    "        for i, doc in enumerate(results['documents'][0]):\n",
    "            print(f\"--- 결과 {i+1} ---\")\n",
    "            print(f\"ID: {results['ids'][0][i]}\")\n",
    "            # 메타데이터가 없는 경우를 대비하여 .get() 사용\n",
    "            print(f\"제목: {results['metadatas'][0][i].get('title', '제목 없음')}\")\n",
    "            print(f\"초록: {doc[:200]}...\") # 초록의 일부만 출력\n",
    "            print(\"-\" * 20)\n",
    "    else:\n",
    "        print(\"검색 결과가 없습니다.\")\n",
    "\n",
    "except Exception as e:\n",
    "    print(f\"데이터 쿼리 중 오류 발생: {e}\")\n",
    "    print(\"OpenAI API 키가 유효한지, 또는 임베딩 함수 설정이 올바른지 확인해주세요.\")\n",
    "\n",
    "print(\"\\n--- ChromaDB 사용 완료 ---\")\n",
    "\n"
   ]
  },
  {
   "cell_type": "code",
   "execution_count": null,
   "id": "ba3c28a5",
   "metadata": {},
   "outputs": [],
   "source": []
  }
 ],
 "metadata": {
  "kernelspec": {
   "display_name": "lang_env",
   "language": "python",
   "name": "python3"
  },
  "language_info": {
   "codemirror_mode": {
    "name": "ipython",
    "version": 3
   },
   "file_extension": ".py",
   "mimetype": "text/x-python",
   "name": "python",
   "nbconvert_exporter": "python",
   "pygments_lexer": "ipython3",
   "version": "3.12.11"
  }
 },
 "nbformat": 4,
 "nbformat_minor": 5
}
